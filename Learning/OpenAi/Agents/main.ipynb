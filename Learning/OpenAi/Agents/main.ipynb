{
 "cells": [
  {
   "cell_type": "code",
   "execution_count": 1,
   "metadata": {
    "vscode": {
     "languageId": "bat"
    }
   },
   "outputs": [
    {
     "name": "stdout",
     "output_type": "stream",
     "text": [
      "Requirement already satisfied: openai-agents in c:\\users\\yuri\\appdata\\local\\programs\\python\\python311\\lib\\site-packages (0.0.4)\n",
      "Requirement already satisfied: nest_asyncio in c:\\users\\yuri\\appdata\\roaming\\python\\python311\\site-packages (1.6.0)\n",
      "Requirement already satisfied: griffe<2,>=1.5.6 in c:\\users\\yuri\\appdata\\local\\programs\\python\\python311\\lib\\site-packages (from openai-agents) (1.6.0)\n",
      "Requirement already satisfied: openai>=1.66.2 in c:\\users\\yuri\\appdata\\local\\programs\\python\\python311\\lib\\site-packages (from openai-agents) (1.66.3)\n",
      "Requirement already satisfied: pydantic<3,>=2.10 in c:\\users\\yuri\\appdata\\local\\programs\\python\\python311\\lib\\site-packages (from openai-agents) (2.10.6)\n",
      "Requirement already satisfied: requests<3,>=2.0 in c:\\users\\yuri\\appdata\\local\\programs\\python\\python311\\lib\\site-packages (from openai-agents) (2.32.3)\n",
      "Requirement already satisfied: types-requests<3,>=2.0 in c:\\users\\yuri\\appdata\\local\\programs\\python\\python311\\lib\\site-packages (from openai-agents) (2.32.0.20250306)\n",
      "Requirement already satisfied: typing-extensions<5,>=4.12.2 in c:\\users\\yuri\\appdata\\local\\programs\\python\\python311\\lib\\site-packages (from openai-agents) (4.12.2)\n",
      "Requirement already satisfied: colorama>=0.4 in c:\\users\\yuri\\appdata\\local\\programs\\python\\python311\\lib\\site-packages (from griffe<2,>=1.5.6->openai-agents) (0.4.6)\n",
      "Requirement already satisfied: anyio<5,>=3.5.0 in c:\\users\\yuri\\appdata\\local\\programs\\python\\python311\\lib\\site-packages (from openai>=1.66.2->openai-agents) (4.6.2.post1)\n",
      "Requirement already satisfied: distro<2,>=1.7.0 in c:\\users\\yuri\\appdata\\local\\programs\\python\\python311\\lib\\site-packages (from openai>=1.66.2->openai-agents) (1.9.0)\n",
      "Requirement already satisfied: httpx<1,>=0.23.0 in c:\\users\\yuri\\appdata\\local\\programs\\python\\python311\\lib\\site-packages (from openai>=1.66.2->openai-agents) (0.27.2)\n",
      "Requirement already satisfied: jiter<1,>=0.4.0 in c:\\users\\yuri\\appdata\\local\\programs\\python\\python311\\lib\\site-packages (from openai>=1.66.2->openai-agents) (0.7.1)\n",
      "Requirement already satisfied: sniffio in c:\\users\\yuri\\appdata\\local\\programs\\python\\python311\\lib\\site-packages (from openai>=1.66.2->openai-agents) (1.3.1)\n",
      "Requirement already satisfied: tqdm>4 in c:\\users\\yuri\\appdata\\local\\programs\\python\\python311\\lib\\site-packages (from openai>=1.66.2->openai-agents) (4.67.0)\n",
      "Requirement already satisfied: annotated-types>=0.6.0 in c:\\users\\yuri\\appdata\\local\\programs\\python\\python311\\lib\\site-packages (from pydantic<3,>=2.10->openai-agents) (0.7.0)\n",
      "Requirement already satisfied: pydantic-core==2.27.2 in c:\\users\\yuri\\appdata\\local\\programs\\python\\python311\\lib\\site-packages (from pydantic<3,>=2.10->openai-agents) (2.27.2)\n",
      "Requirement already satisfied: charset-normalizer<4,>=2 in c:\\users\\yuri\\appdata\\local\\programs\\python\\python311\\lib\\site-packages (from requests<3,>=2.0->openai-agents) (3.4.0)\n",
      "Requirement already satisfied: idna<4,>=2.5 in c:\\users\\yuri\\appdata\\local\\programs\\python\\python311\\lib\\site-packages (from requests<3,>=2.0->openai-agents) (3.10)\n",
      "Requirement already satisfied: urllib3<3,>=1.21.1 in c:\\users\\yuri\\appdata\\local\\programs\\python\\python311\\lib\\site-packages (from requests<3,>=2.0->openai-agents) (2.2.3)\n",
      "Requirement already satisfied: certifi>=2017.4.17 in c:\\users\\yuri\\appdata\\local\\programs\\python\\python311\\lib\\site-packages (from requests<3,>=2.0->openai-agents) (2024.8.30)\n",
      "Requirement already satisfied: httpcore==1.* in c:\\users\\yuri\\appdata\\local\\programs\\python\\python311\\lib\\site-packages (from httpx<1,>=0.23.0->openai>=1.66.2->openai-agents) (1.0.6)\n",
      "Requirement already satisfied: h11<0.15,>=0.13 in c:\\users\\yuri\\appdata\\local\\programs\\python\\python311\\lib\\site-packages (from httpcore==1.*->httpx<1,>=0.23.0->openai>=1.66.2->openai-agents) (0.14.0)\n",
      "Note: you may need to restart the kernel to use updated packages.\n"
     ]
    },
    {
     "name": "stderr",
     "output_type": "stream",
     "text": [
      "\n",
      "[notice] A new release of pip is available: 23.3.2 -> 25.0.1\n",
      "[notice] To update, run: python.exe -m pip install --upgrade pip\n"
     ]
    }
   ],
   "source": [
    "pip install openai-agents nest_asyncio"
   ]
  },
  {
   "cell_type": "code",
   "execution_count": 3,
   "metadata": {},
   "outputs": [
    {
     "name": "stdout",
     "output_type": "stream",
     "text": [
      "The first president of the United States was George Washington. He served from 1789 to 1797. Washington was unanimously elected by the Electoral College and is often called the \"Father of His Country\" due to his pivotal role in the founding of the United States. He set many precedents for the presidency and was instrumental in the drafting and ratification of the U.S. Constitution. Washington served two terms and voluntarily stepped down, reinforcing the principle of peaceful transition of power.\n"
     ]
    }
   ],
   "source": [
    "from agents import Agent, InputGuardrail,GuardrailFunctionOutput, Runner\n",
    "from pydantic import BaseModel\n",
    "import asyncio\n",
    "\n",
    "import nest_asyncio\n",
    "nest_asyncio.apply()\n",
    "\n",
    "class HomeworkOutput(BaseModel):\n",
    "  is_homework: bool\n",
    "  reasoning: str\n",
    "\n",
    "guardrail_agent = Agent(\n",
    "  name=\"Guardrail check\",\n",
    "  instructions=\"Check if the user is asking about homework.\",\n",
    "  output_type=HomeworkOutput,\n",
    ")\n",
    "\n",
    "math_tutor_agent = Agent(\n",
    "  name=\"Math Tutor\",\n",
    "  handoff_description=\"Specialist agent for math questions\",\n",
    "  instructions=\"You provide help with math problems. Explain your reasoning at each step and include examples\",\n",
    ")\n",
    "\n",
    "history_tutor_agent = Agent(\n",
    "  name=\"History Tutor\",\n",
    "  handoff_description=\"Specialist agent for historical questions\",\n",
    "  instructions=\"You provide assistance with historical queries. Explain important events and context clearly.\",\n",
    ")\n",
    "\n",
    "async def homework_guardrail(ctx, agent, input_data):\n",
    "  result = await Runner.run(guardrail_agent, input_data, context=ctx.context)\n",
    "  final_output = result.final_output_as(HomeworkOutput)\n",
    "  return GuardrailFunctionOutput(\n",
    "    output_info=final_output,\n",
    "    tripwire_triggered=not final_output.is_homework,\n",
    "  )\n",
    "\n",
    "triage_agent = Agent(\n",
    "  name=\"Triage Agent\",\n",
    "  instructions=\"You determine which agent to use based on the user's homework question\",\n",
    "  handoffs=[history_tutor_agent, math_tutor_agent],\n",
    "  input_guardrails=[\n",
    "    InputGuardrail(guardrail_function=homework_guardrail),\n",
    "  ],\n",
    ")\n",
    "\n",
    "async def main():\n",
    "  result = await Runner.run(triage_agent, \"who was the first president of the united states?\")\n",
    "  print(result.final_output)\n",
    "\n",
    "if __name__ == \"__main__\":\n",
    "  asyncio.run(main())"
   ]
  },
  {
   "cell_type": "markdown",
   "metadata": {},
   "source": [
    "### Basic configuration\n",
    "The most common properties of an agent you'll configure are:\n",
    "\n",
    "- instructions: also known as a developer message or system prompt.\n",
    "- model: which LLM to use, and optional model_settings to configure model tuning parameters like temperature, top_p, etc.\n",
    "- tools: Tools that the agent can use to achieve its tasks."
   ]
  },
  {
   "cell_type": "code",
   "execution_count": 7,
   "metadata": {},
   "outputs": [
    {
     "name": "stdout",
     "output_type": "stream",
     "text": [
      "Skies are clear and bright,  \n",
      "In New York, the sun shines strong,  \n",
      "A perfect day dawns.\n"
     ]
    }
   ],
   "source": [
    "from agents import Agent, function_tool\n",
    "\n",
    "@function_tool\n",
    "def get_weather(city: str) -> str:\n",
    "  return f\"The weather in {city} is sunny\"\n",
    "\n",
    "agent = Agent(\n",
    "  name=\"Haiku agent\",\n",
    "  instructions=\"Always respond in haiku form\",\n",
    "  tools=[get_weather],\n",
    ")\n",
    "\n",
    "result = Runner.run_sync(agent, \"what is the weather in New York?\")\n",
    "print(result.final_output)"
   ]
  },
  {
   "cell_type": "markdown",
   "metadata": {},
   "source": [
    "### Context\n",
    "\n",
    "Agents are generic on their context type. Context is a dependency-injection tool: it's an object you create and pass to Runner.run(), that is passed to every agent, tool, handoff etc, and it serves as a grab bag of dependencies and state for the agent run. You can provide any Python object as the context."
   ]
  },
  {
   "cell_type": "code",
   "execution_count": 13,
   "metadata": {},
   "outputs": [],
   "source": [
    "from agents import Agent, Runner\n",
    "from dataclasses import dataclass\n",
    "\n",
    "@dataclass\n",
    "class UserContext:\n",
    "  name: str\n",
    "  uid: str\n",
    "  is_pro_user: bool\n",
    "\n",
    "  async def fetch_purchases(self) -> list[str]:\n",
    "    return ['PS5', 'Xbox Series X']\n",
    "\n",
    "agent = Agent[UserContext](\n",
    "  name=\"Pro User Agent\",\n",
    "  instructions=\"Provide special responses to pro users\",\n",
    ")"
   ]
  },
  {
   "cell_type": "markdown",
   "metadata": {},
   "source": [
    "### Output types\n",
    "\n",
    "By default, agents produce plain text (i.e. str) outputs. If you want the agent to produce a particular type of output, you can use the output_type parameter. A common choice is to use Pydantic objects, but we support any type that can be wrapped in a Pydantic TypeAdapter - dataclasses, lists, TypedDict, etc."
   ]
  },
  {
   "cell_type": "code",
   "execution_count": 10,
   "metadata": {},
   "outputs": [
    {
     "name": "stdout",
     "output_type": "stream",
     "text": [
      "name='Meeting with John' date='This Friday at 3pm' participants=['John']\n"
     ]
    }
   ],
   "source": [
    "from pydantic import BaseModel\n",
    "from agents import Agent\n",
    "\n",
    "\n",
    "class CalendarEvent(BaseModel):\n",
    "  name: str\n",
    "  date: str\n",
    "  participants: list[str]\n",
    "\n",
    "agent = Agent(\n",
    "  name=\"Calendar extractor\",\n",
    "  instructions=\"Extract calendar events from text\",\n",
    "  output_type=CalendarEvent,\n",
    ")\n",
    "\n",
    "result = Runner.run_sync(agent, \"Meeting with John at 3pm on Friday\")\n",
    "print(result.final_output)"
   ]
  },
  {
   "cell_type": "markdown",
   "metadata": {},
   "source": [
    "### Handoffs\n",
    "\n",
    "Handoffs are sub-agents that the agent can delegate to. You provide a list of handoffs, and the agent can choose to delegate to them if relevant. This is a powerful pattern that allows orchestrating modular, specialized agents that excel at a single task. Read more in the handoffs documentation."
   ]
  },
  {
   "cell_type": "code",
   "execution_count": null,
   "metadata": {},
   "outputs": [],
   "source": [
    "from agents import Agent\n",
    "\n",
    "booking_agent = Agent(\n",
    "  name=\"Booking agent\",\n",
    "  instructions=\"Help the user with booking queries\",\n",
    ")\n",
    "refund_agent = Agent(\n",
    "  name=\"Refund agent\",\n",
    "  instructions=\"Help the user with refund queries\",\n",
    ")\n",
    "\n",
    "triage_agent = Agent(\n",
    "  name=\"Triage agent\",\n",
    "  instructions=(\n",
    "    \"Help the user with their questions.\"\n",
    "    \"If they ask about booking, handoff to the booking agent.\"\n",
    "    \"If they ask about refunds, handoff to the refund agent.\"\n",
    "  ),\n",
    "  handoffs=[booking_agent, refund_agent],\n",
    ")"
   ]
  },
  {
   "cell_type": "markdown",
   "metadata": {},
   "source": [
    "### Dynamic instructions\n",
    "\n",
    "In most cases, you can provide instructions when you create the agent. However, you can also provide dynamic instructions via a function. The function will receive the agent and context, and must return the prompt. Both regular and async functions are accepted."
   ]
  },
  {
   "cell_type": "code",
   "execution_count": 29,
   "metadata": {},
   "outputs": [
    {
     "name": "stdout",
     "output_type": "stream",
     "text": [
      "Your purchases include a PS5 and an Xbox Series X.\n",
      "Please check your account to view your purchases.\n"
     ]
    }
   ],
   "source": [
    "from agents import Agent, RunContextWrapper, Runner\n",
    "\n",
    "def dynamic_instructions(\n",
    "  context: RunContextWrapper[UserContext], agent: Agent[UserContext]\n",
    ") -> str:\n",
    "  list_of_purchases = context.context.fetch_purchases()\n",
    "  return f\"User Pro:{context.context.is_pro_user}\\nList of purchases: {list_of_purchases}\\nYou help pro users only! If the user is not pro, tell them to look their purchases up in their account.\"\n",
    "\n",
    "@dataclass\n",
    "class UserContext:\n",
    "  name: str\n",
    "  uid: str\n",
    "  is_pro_user: bool\n",
    "\n",
    "  def fetch_purchases(self) -> list[str]:\n",
    "    return ['PS5', 'Xbox Series X']\n",
    "\n",
    "agent = Agent[UserContext](\n",
    "  name=\"Pro User Agent\",\n",
    "  instructions=dynamic_instructions,\n",
    ")\n",
    "\n",
    "result = Runner.run_sync(agent, \"What are my purchases?\", context=UserContext(name='dog', uid=\"123\", is_pro_user=True))\n",
    "print(result.final_output)\n",
    "result = Runner.run_sync(agent, \"What are my purchases?\", context=UserContext(name='dog', uid=\"123\", is_pro_user=False))\n",
    "print(result.final_output)\n"
   ]
  },
  {
   "cell_type": "markdown",
   "metadata": {},
   "source": [
    "### Lifecycle events (hooks)\n",
    "\n",
    "Sometimes, you want to observe the lifecycle of an agent. For example, you may want to log events, or pre-fetch data when certain events occur. You can hook into the agent lifecycle with the hooks property. Subclass the [AgentHooks](https://openai.github.io/openai-agents-python/ref/lifecycle/#agents.lifecycle.AgentHooks) class, and override the methods you're interested in.\n",
    "\n",
    "### Guardrails\n",
    "\n",
    "Guardrails allow you to run checks/validations on user input, in parallel to the agent running. For example, you could screen the user's input for relevance. Read more in the [guardrails](https://openai.github.io/openai-agents-python/guardrails/) documentation."
   ]
  },
  {
   "cell_type": "markdown",
   "metadata": {},
   "source": [
    "Guardrails run in parallel to your agents, enabling you to do checks and validations of user input. For example, imagine you have an agent that uses a very smart (and hence slow/expensive) model to help with customer requests. You wouldn't want malicious users to ask the model to help them with their math homework. So, you can run a guardrail with a fast/cheap model. If the guardrail detects malicious usage, it can immediately raise an error, which stops the expensive model from running and saves you time/money.\n",
    "\n",
    "There are two kinds of guardrails:\n",
    "\n",
    "1. Input guardrails run on the initial user input\n",
    "2. Output guardrails run on the final agent output\n",
    "\n",
    "#### Input guardrails\n",
    "\n",
    "Input guardrails run in 3 steps:\n",
    "\n",
    "1. First, the guardrail receives the same input passed to the agent.\n",
    "2. Next, the guardrail function runs to produce a GuardrailFunctionOutput, which is then wrapped in an InputGuardrailResult\n",
    "3. Finally, we check if .tripwire_triggered is true. If true, an InputGuardrailTripwireTriggered exception is raised, so you can appropriately respond to the user or handle the exception.\n",
    "\n",
    "#### Output guardrails\n",
    "\n",
    "Output guardrails run in 3 steps:\n",
    "\n",
    "1. First, the guardrail receives the same input passed to the agent.\n",
    "2. Next, the guardrail function runs to produce a GuardrailFunctionOutput, which is then wrapped in an OutputGuardrailResult\n",
    "3. Finally, we check if .tripwire_triggered is true. If true, an OutputGuardrailTripwireTriggered exception is raised, so you can appropriately respond to the user or handle the exception."
   ]
  },
  {
   "cell_type": "code",
   "execution_count": null,
   "metadata": {},
   "outputs": [],
   "source": [
    "from pydantic import BaseModel\n",
    "from agents import (\n",
    "  Agent,\n",
    "  GuardrailFunctionOutput,\n",
    "  InputGuardrailTripwireTriggered,\n",
    "  RunContextWrapper,\n",
    "  Runner,\n",
    "  TResponseInputItem,\n",
    "  input_guardrail,\n",
    ")\n",
    "\n",
    "class MathHomeworkOutput(BaseModel):\n",
    "  is_math_homework: bool\n",
    "  reasoning: str\n",
    "\n",
    "guardrail_agent = Agent(\n",
    "  name=\"Guardrail check\",\n",
    "  instructions=\"Check if the user is asking you to do their math homework.\",\n",
    "  output_type=MathHomeworkOutput,\n",
    ")\n",
    "\n",
    "\n",
    "@input_guardrail\n",
    "async def math_guardrail(\n",
    "  ctx: RunContextWrapper[None], agent: Agent, input: str | list[TResponseInputItem]\n",
    ") -> GuardrailFunctionOutput:\n",
    "  result = await Runner.run(guardrail_agent, input, context=ctx.context)\n",
    "\n",
    "  return GuardrailFunctionOutput(\n",
    "    output_info=result.final_output,\n",
    "    tripwire_triggered=result.final_output.is_math_homework,\n",
    "  )\n",
    "\n",
    "\n",
    "agent = Agent(\n",
    "  name=\"Customer support agent\",\n",
    "  instructions=\"You are a customer support agent. You help customers with their questions.\",\n",
    "  input_guardrails=[math_guardrail],\n",
    ")\n",
    "\n",
    "async def main():\n",
    "  # This should trip the guardrail\n",
    "  try:\n",
    "    await Runner.run(agent, \"Hello, can you help me solve for x: 2x + 3 = 11?\")\n",
    "    print(\"Guardrail didn't trip - this is unexpected\")\n",
    "\n",
    "  except InputGuardrailTripwireTriggered:\n",
    "    print(\"Math homework guardrail tripped\")"
   ]
  },
  {
   "cell_type": "code",
   "execution_count": null,
   "metadata": {},
   "outputs": [],
   "source": [
    "from pydantic import BaseModel\n",
    "from agents import (\n",
    "  Agent,\n",
    "  GuardrailFunctionOutput,\n",
    "  OutputGuardrailTripwireTriggered,\n",
    "  RunContextWrapper,\n",
    "  Runner,\n",
    "  output_guardrail,\n",
    ")\n",
    "class MessageOutput(BaseModel):\n",
    "  response: str\n",
    "\n",
    "class MathOutput(BaseModel):\n",
    "  is_math: bool\n",
    "  reasoning: str\n",
    "\n",
    "guardrail_agent = Agent(\n",
    "  name=\"Guardrail check\",\n",
    "  instructions=\"Check if the output includes any math.\",\n",
    "  output_type=MathOutput,\n",
    ")\n",
    "\n",
    "@output_guardrail\n",
    "async def math_guardrail(\n",
    "    ctx: RunContextWrapper, agent: Agent, output: MessageOutput\n",
    ") -> GuardrailFunctionOutput:\n",
    "  result = await Runner.run(guardrail_agent, output.response, context=ctx.context)\n",
    "\n",
    "  return GuardrailFunctionOutput(\n",
    "    output_info=result.final_output,\n",
    "    tripwire_triggered=result.final_output.is_math,\n",
    "  )\n",
    "\n",
    "agent = Agent(\n",
    "  name=\"Customer support agent\",\n",
    "  instructions=\"You are a customer support agent. You help customers with their questions.\",\n",
    "  output_guardrails=[math_guardrail],\n",
    "  output_type=MessageOutput,\n",
    ")\n",
    "\n",
    "async def main():\n",
    "  # This should trip the guardrail\n",
    "  try:\n",
    "    await Runner.run(agent, \"Hello, can you help me solve for x: 2x + 3 = 11?\")\n",
    "    print(\"Guardrail didn't trip - this is unexpected\")\n",
    "\n",
    "  except OutputGuardrailTripwireTriggered:\n",
    "    print(\"Math output guardrail tripped\")"
   ]
  }
 ],
 "metadata": {
  "kernelspec": {
   "display_name": "Python 3",
   "language": "python",
   "name": "python3"
  },
  "language_info": {
   "codemirror_mode": {
    "name": "ipython",
    "version": 3
   },
   "file_extension": ".py",
   "mimetype": "text/x-python",
   "name": "python",
   "nbconvert_exporter": "python",
   "pygments_lexer": "ipython3",
   "version": "3.11.6"
  }
 },
 "nbformat": 4,
 "nbformat_minor": 2
}
